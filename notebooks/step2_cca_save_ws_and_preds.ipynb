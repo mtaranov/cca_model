{
 "cells": [
  {
   "cell_type": "code",
   "execution_count": 19,
   "metadata": {
    "collapsed": false
   },
   "outputs": [
    {
     "name": "stdout",
     "output_type": "stream",
     "text": [
      "The autoreload extension is already loaded. To reload it, use:\n",
      "  %reload_ext autoreload\n"
     ]
    }
   ],
   "source": [
    "%matplotlib inline\n",
    "%load_ext autoreload\n",
    "%autoreload 2\n",
    "import numpy as np\n",
    "import matplotlib.pyplot as plt\n",
    "import rcca_modified as rcca\n",
    "#reload(rcca)\n",
    "from unils_cca import set_diag_to_zero\n",
    "from metrics import ClassificationResult\n",
    "from unils_cca import binarize, set_diag_to_zero, BuildMatrixA, printMatrix, print_q_val_hist, zscore, plot_zscore, BuildFeatureVector,\\\n",
    "train_test_2D, build_distance_for_node,  get_features, build_distance_matrix, remove_ambiguous, \\\n",
    "get_pairs_distance_matched,  reshape_2d_to_1d, demean, get_pos_neg_y_and_ypred_at_thres, subsample_neg\n",
    "import copy\n",
    "from sklearn.metrics import auc, precision_recall_curve, roc_auc_score"
   ]
  },
  {
   "cell_type": "code",
   "execution_count": 20,
   "metadata": {
    "collapsed": false
   },
   "outputs": [],
   "source": [
    "InteractionsFileCaptureC='/srv/scratch/mtaranov/CaptureC_ChicagoCalls/CaptureC_SC_bait-bait.bed.gz'\n",
    "#InteractionsFileCaptureC='/mnt/lab_data/kundaje/mtaranov/ChicagoCalls/D0_D2D8_merge_BaitToBait_intra.bed.gz'\n",
    "PromoterFile='/srv/scratch/mtaranov/HindIII/PromoterCapture_Digest_Human_HindIII_baits_ID.bed'\n",
    "DATADIR='/users/mtaranov/CCA_model/data/'\n",
    "DATADIR_CaptureC = DATADIR+'CaptureC/'\n",
    "DATADIR_kernels = DATADIR+'CaptureC_kernels/'\n",
    "DATADIR_nodes = DATADIR+'nodes/'\n",
    "DATADIR_features = DATADIR+'features/'\n",
    "DATADIR_preds = DATADIR+'preds_2d/'\n",
    "DATADIR_weights = DATADIR+'weights/'"
   ]
  },
  {
   "cell_type": "markdown",
   "metadata": {},
   "source": [
    "## Train model with kernel_CaptureC, save weights"
   ]
  },
  {
   "cell_type": "code",
   "execution_count": 21,
   "metadata": {
    "collapsed": true
   },
   "outputs": [],
   "source": [
    "all_chrs = ['chr'+str(i+1) for i in range(22)]+['chrX']"
   ]
  },
  {
   "cell_type": "code",
   "execution_count": 22,
   "metadata": {
    "collapsed": false
   },
   "outputs": [
    {
     "name": "stdout",
     "output_type": "stream",
     "text": [
      "Training CCA, regularization = 0.0010, 50 components\n",
      "Training CCA, regularization = 0.0010, 50 components\n",
      "Training CCA, regularization = 0.0010, 50 components\n",
      "Training CCA, regularization = 0.0010, 50 components\n",
      "Training CCA, regularization = 0.0010, 50 components\n",
      "Training CCA, regularization = 0.0010, 50 components\n",
      "Training CCA, regularization = 0.0010, 50 components\n",
      "Training CCA, regularization = 0.0010, 50 components\n",
      "Training CCA, regularization = 0.0010, 50 components\n",
      "Training CCA, regularization = 0.0010, 50 components\n",
      "Training CCA, regularization = 0.0010, 50 components\n",
      "Training CCA, regularization = 0.0010, 50 components\n",
      "Training CCA, regularization = 0.0010, 50 components\n",
      "Training CCA, regularization = 0.0010, 50 components\n",
      "Training CCA, regularization = 0.0010, 50 components\n",
      "Training CCA, regularization = 0.0010, 50 components\n",
      "Training CCA, regularization = 0.0010, 50 components\n",
      "Training CCA, regularization = 0.0010, 50 components\n",
      "Training CCA, regularization = 0.0010, 50 components\n",
      "Training CCA, regularization = 0.0010, 50 components\n",
      "Training CCA, regularization = 0.0010, 50 components\n",
      "Training CCA, regularization = 0.0010, 50 components\n",
      "Training CCA, regularization = 0.0010, 50 components\n"
     ]
    }
   ],
   "source": [
    "best_reg=0.001\n",
    "best_numCC=50\n",
    "cca = rcca.CCA(reg=best_reg, numCC=best_numCC)\n",
    "\n",
    "for chr in all_chrs:\n",
    "    kernel_CaptureC = np.load(DATADIR_kernels+'kernel_CaptureC_'+chr+'.npy')\n",
    "    features = np.load(DATADIR_features+'features_'+chr+'.npy')\n",
    "    cca_train = cca.train([demean(kernel_CaptureC), demean(features)])\n",
    "    np.save(DATADIR_weights+'ws_'+chr, cca_train.__dict__['ws'][1])"
   ]
  },
  {
   "cell_type": "markdown",
   "metadata": {},
   "source": [
    "## Save predictions, 2d"
   ]
  },
  {
   "cell_type": "code",
   "execution_count": 23,
   "metadata": {
    "collapsed": false
   },
   "outputs": [
    {
     "name": "stdout",
     "output_type": "stream",
     "text": [
      "chr1\n",
      "chr2\n",
      "chr3\n",
      "chr4\n",
      "chr5\n",
      "chr6\n",
      "chr7\n",
      "chr8\n",
      "chr9\n",
      "chr10\n",
      "chr11\n",
      "chr12\n",
      "chr13\n",
      "chr14\n",
      "chr15\n",
      "chr16\n",
      "chr17\n",
      "chr18\n",
      "chr19\n",
      "chr20\n",
      "chr21\n",
      "chr22\n",
      "chrX\n"
     ]
    }
   ],
   "source": [
    "for chr in all_chrs:\n",
    "    print chr\n",
    "    without_current_chr = copy.copy(all_chrs)\n",
    "    without_current_chr.remove(chr)\n",
    "    ws_all = []\n",
    "    for other_chr in without_current_chr:\n",
    "        ws_all.append(np.load(DATADIR_weights+'ws_'+other_chr+'.npy'))\n",
    "    ws = sum(ws_all)/len(without_current_chr) \n",
    "    features = np.load(DATADIR_features+'features_'+chr+'.npy')\n",
    "    preds, projs = cca.predict_from_features(features, ws)\n",
    "    np.save(DATADIR_preds+'pred_2d_'+chr, set_diag_to_zero(preds))"
   ]
  },
  {
   "cell_type": "markdown",
   "metadata": {},
   "source": [
    "## Train model with raw CaptureC, save weights"
   ]
  },
  {
   "cell_type": "code",
   "execution_count": 24,
   "metadata": {
    "collapsed": false
   },
   "outputs": [
    {
     "name": "stdout",
     "output_type": "stream",
     "text": [
      "Training CCA, regularization = 0.0010, 50 components\n",
      "Training CCA, regularization = 0.0010, 50 components\n",
      "Training CCA, regularization = 0.0010, 50 components\n",
      "Training CCA, regularization = 0.0010, 50 components\n",
      "Training CCA, regularization = 0.0010, 50 components\n",
      "Training CCA, regularization = 0.0010, 50 components\n",
      "Training CCA, regularization = 0.0010, 50 components\n",
      "Training CCA, regularization = 0.0010, 50 components\n",
      "Training CCA, regularization = 0.0010, 50 components\n",
      "Training CCA, regularization = 0.0010, 50 components\n",
      "Training CCA, regularization = 0.0010, 50 components\n",
      "Training CCA, regularization = 0.0010, 50 components\n",
      "Training CCA, regularization = 0.0010, 50 components\n",
      "Training CCA, regularization = 0.0010, 50 components\n",
      "Training CCA, regularization = 0.0010, 50 components\n",
      "Training CCA, regularization = 0.0010, 50 components\n",
      "Training CCA, regularization = 0.0010, 50 components\n",
      "Training CCA, regularization = 0.0010, 50 components\n",
      "Training CCA, regularization = 0.0010, 50 components\n",
      "Training CCA, regularization = 0.0010, 50 components\n",
      "Training CCA, regularization = 0.0010, 50 components\n",
      "Training CCA, regularization = 0.0010, 50 components\n",
      "Training CCA, regularization = 0.0010, 50 components\n"
     ]
    }
   ],
   "source": [
    "best_reg=0.001\n",
    "best_numCC=50\n",
    "cca = rcca.CCA(reg=best_reg, numCC=best_numCC)\n",
    "\n",
    "for chr in all_chrs:\n",
    "    CaptureC = np.load(DATADIR_CaptureC+'CaptureC_'+chr+'.npy')\n",
    "    features = np.load(DATADIR_features+'features_'+chr+'.npy')\n",
    "    cca_train = cca.train([demean(CaptureC), demean(features)])\n",
    "    np.save(DATADIR_weights+'ws_NoKernel_'+chr, cca_train.__dict__['ws'][1])"
   ]
  },
  {
   "cell_type": "markdown",
   "metadata": {},
   "source": [
    "## Save predictions, 2d"
   ]
  },
  {
   "cell_type": "code",
   "execution_count": 25,
   "metadata": {
    "collapsed": false
   },
   "outputs": [
    {
     "name": "stdout",
     "output_type": "stream",
     "text": [
      "chr1\n",
      "chr2\n",
      "chr3\n",
      "chr4\n",
      "chr5\n",
      "chr6\n",
      "chr7\n",
      "chr8\n",
      "chr9\n",
      "chr10\n",
      "chr11\n",
      "chr12\n",
      "chr13\n",
      "chr14\n",
      "chr15\n",
      "chr16\n",
      "chr17\n",
      "chr18\n",
      "chr19\n",
      "chr20\n",
      "chr21\n",
      "chr22\n",
      "chrX\n"
     ]
    }
   ],
   "source": [
    "for chr in all_chrs:\n",
    "    print chr\n",
    "    without_current_chr = copy.copy(all_chrs)\n",
    "    without_current_chr.remove(chr)\n",
    "    ws_all = []\n",
    "    for other_chr in without_current_chr:\n",
    "        ws_all.append(np.load(DATADIR_weights+'ws_NoKernel_'+other_chr+'.npy'))\n",
    "    ws = sum(ws_all)/len(without_current_chr) \n",
    "    features = np.load(DATADIR_features+'features_'+chr+'.npy')\n",
    "    preds, projs = cca.predict_from_features(features, ws)\n",
    "    np.save(DATADIR_preds+'pred_2d_NoKernel_'+chr, set_diag_to_zero(preds))"
   ]
  },
  {
   "cell_type": "code",
   "execution_count": null,
   "metadata": {
    "collapsed": true
   },
   "outputs": [],
   "source": []
  }
 ],
 "metadata": {
  "anaconda-cloud": {},
  "kernelspec": {
   "display_name": "Python [conda root]",
   "language": "python",
   "name": "conda-root-py"
  },
  "language_info": {
   "codemirror_mode": {
    "name": "ipython",
    "version": 2
   },
   "file_extension": ".py",
   "mimetype": "text/x-python",
   "name": "python",
   "nbconvert_exporter": "python",
   "pygments_lexer": "ipython2",
   "version": "2.7.12"
  }
 },
 "nbformat": 4,
 "nbformat_minor": 1
}
